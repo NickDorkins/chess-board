{
 "cells": [
  {
   "cell_type": "code",
   "execution_count": 3,
   "metadata": {},
   "outputs": [],
   "source": [
    "import numpy as np \n",
    "import matplotlib.pyplot as plot"
   ]
  },
  {
   "cell_type": "code",
   "execution_count": 21,
   "metadata": {},
   "outputs": [
    {
     "data": {
      "image/png": "[encoded data removed]",
      "text/plain": [
       "<Figure size 432x288 with 1 Axes>"
      ]
     },
     "metadata": {
      "needs_background": "light"
     },
     "output_type": "display_data"
    }
   ],
   "source": [
    "class ChessBoard:\n",
    "\n",
    "    \n",
    "    white = [1,1,1]\n",
    "    blue = [0,0,1]\n",
    "    red = [1,0,0]\n",
    "    black = [0,0,0]\n",
    "    def __init__(self):\n",
    "        self.grid = np.zeros((8, 8, 3))\n",
    "        self.red_x_axis = 0\n",
    "        self.red_y_axis = 0\n",
    "        self.blue_x_axis = 0\n",
    "        self.blue_y_axis = 0\n",
    "        for i in range(8):\n",
    "            for j in range(8):\n",
    "                if (i+j) %2 == 0:\n",
    "                    self.grid[i, j] = ChessBoard.white\n",
    "                    \n",
    "    def add_red(self,row,column):\n",
    "        self.red_x_axis = column\n",
    "        self.red_y_axis = row\n",
    "        self.grid[column,row] = ChessBoard.red\n",
    "       \n",
    "    \n",
    "    def add_blue(self,row,column):\n",
    "        self.blue_x_axis = column\n",
    "        self.blue_y_axis = row\n",
    "        self.grid[column,row] = ChessBoard.blue\n",
    "       \n",
    "        \n",
    "    def render(self):\n",
    "        plot.imshow(self.grid)\n",
    "\n",
    "    \n",
    "board = ChessBoard()\n",
    "\n",
    "board.render()\n",
    "\n",
    "board.add_red(0,0) \n",
    "board.add_blue(7,7)\n",
    "\n",
    "board.render()\n",
    "\n"
   ]
  },
  {
   "cell_type": "code",
   "execution_count": null,
   "metadata": {},
   "outputs": [],
   "source": []
  },
  {
   "cell_type": "code",
   "execution_count": null,
   "metadata": {},
   "outputs": [],
   "source": []
  }
 ],
 "metadata": {
  "kernelspec": {
   "display_name": "Python 3",
   "language": "python",
   "name": "python3"
  },
  "language_info": {
   "codemirror_mode": {
    "name": "ipython",
    "version": 3
   },
   "file_extension": ".py",
   "mimetype": "text/x-python",
   "name": "python",
   "nbconvert_exporter": "python",
   "pygments_lexer": "ipython3",
   "version": "3.9.0"
  }
 },
 "nbformat": 4,
 "nbformat_minor": 2
}
